{
 "cells": [
  {
   "cell_type": "code",
   "execution_count": 38,
   "id": "6942529d",
   "metadata": {},
   "outputs": [],
   "source": [
    "import scipy\n",
    "import numpy as np\n",
    "from matplotlib import pyplot as plt"
   ]
  },
  {
   "cell_type": "code",
   "execution_count": 39,
   "id": "f01d27cd",
   "metadata": {},
   "outputs": [],
   "source": [
    "phis=[0.00,90,45,135,180]\n",
    "areas=[15098.5,16353.0,27739.0,32179.0,39784.0]\n"
   ]
  },
  {
   "cell_type": "code",
   "execution_count": 44,
   "id": "2936a2f0",
   "metadata": {},
   "outputs": [],
   "source": [
    "def func(phi,a,b,c):\n",
    "    return a*np.cos(np.pi/90.0*(phi+b))+c\n",
    "\n",
    "def prep(phis, areas):\n",
    "    phi_list=np.array(phis)\n",
    "    area_list=np.array(areas)\n",
    "\n",
    "    # Observed min phi & area\n",
    "    imin = area_list.argmin()\n",
    "    phi_min_obs = phi_list[imin]\n",
    "    area_min_obs = area_list[imin]\n",
    "\n",
    "    # Mean value in amplitude\n",
    "    mean=np.mean(area_list)\n",
    "\n",
    "    # Scipy fitting\n",
    "    import scipy.optimize\n",
    "\n",
    "    # initial guess for the parameters\n",
    "    parameter_initial = np.array([0.0, 0.0, mean]) #a, b\n",
    "    param_opt, covariance = scipy.optimize.curve_fit(func, phi_list, area_list, p0=parameter_initial)\n",
    "\n",
    "    print(\"phi_list = \", phi_list)\n",
    "    print(\"area_list = \", area_list)\n",
    "    print(\"parameter =\", param_opt)\n",
    "\n",
    "    # DEBUGGING PLOT\n",
    "    plt.cla()\n",
    "    plt.clf()\n",
    "    phi_tmp = np.linspace(0, 360, 100)\n",
    "    ny = func(phi_tmp,param_opt[0],param_opt[1],param_opt[2])\n",
    "    plt.plot(phi_list, area_list, 'o')\n",
    "    plt.plot(phi_tmp, ny, '-')\n",
    "    plt.savefig(\"%s/fitted.png\" % self.logpath)\n",
    "\n",
    "    isDone=True\n",
    "    return param_opt\n",
    "\n",
    "def findFaceAngle():\n",
    "    param_opt=prep(phis, areas)\n",
    "\n",
    "    phi_tmp = np.linspace(0, 180, 36)\n",
    "    ny = self.func(phi_tmp,param_opt[0],param_opt[1],param_opt[2])\n",
    "\n",
    "    min_value=1000000.0\n",
    "    for phi,value in zip(phi_tmp,ny):\n",
    "        if value < min_value:\n",
    "            min_value=value\n",
    "            phi_min=phi\n",
    "\n",
    "    print(\"PHI  Fitted = %10.2f Obs = %10.2f\"%(phi_min, self.phi_min_obs))\n",
    "    print(\"Area Fitted = %10.2f Obs = %10.2f\"%(min_value, self.area_min_obs))\n",
    "\n",
    "    if min_value > self.area_min_obs:\n",
    "        phi_min = self.phi_min_obsjk\n",
    "\n",
    "    face_angle=phi_min+90.0\n",
    "    print(\"findFaceAngle=%5.1f deg.\"%face_angle)\n",
    "    return face_angle"
   ]
  },
  {
   "cell_type": "code",
   "execution_count": 45,
   "id": "07c53237",
   "metadata": {},
   "outputs": [
    {
     "name": "stdout",
     "output_type": "stream",
     "text": [
      "phi_list =  [  0.  90.  45. 135. 180.]\n",
      "area_list =  [15098.5 16353.  27739.  32179.  39784. ]\n",
      "parameter = [4.92156771e+03 1.34063630e+01 2.53522143e+04]\n"
     ]
    },
    {
     "ename": "NameError",
     "evalue": "name 'self' is not defined",
     "output_type": "error",
     "traceback": [
      "\u001b[0;31m---------------------------------------------------------------------------\u001b[0m",
      "\u001b[0;31mNameError\u001b[0m                                 Traceback (most recent call last)",
      "\u001b[0;32m<ipython-input-45-dbf140edc595>\u001b[0m in \u001b[0;36m<module>\u001b[0;34m\u001b[0m\n\u001b[0;32m----> 1\u001b[0;31m \u001b[0mface_angle\u001b[0m\u001b[0;34m=\u001b[0m\u001b[0mfindFaceAngle\u001b[0m\u001b[0;34m(\u001b[0m\u001b[0;34m)\u001b[0m\u001b[0;34m\u001b[0m\u001b[0;34m\u001b[0m\u001b[0m\n\u001b[0m",
      "\u001b[0;32m<ipython-input-44-26f63d6f6d97>\u001b[0m in \u001b[0;36mfindFaceAngle\u001b[0;34m()\u001b[0m\n\u001b[1;32m     38\u001b[0m \u001b[0;34m\u001b[0m\u001b[0m\n\u001b[1;32m     39\u001b[0m \u001b[0;32mdef\u001b[0m \u001b[0mfindFaceAngle\u001b[0m\u001b[0;34m(\u001b[0m\u001b[0;34m)\u001b[0m\u001b[0;34m:\u001b[0m\u001b[0;34m\u001b[0m\u001b[0;34m\u001b[0m\u001b[0m\n\u001b[0;32m---> 40\u001b[0;31m     \u001b[0mparam_opt\u001b[0m\u001b[0;34m=\u001b[0m\u001b[0mprep\u001b[0m\u001b[0;34m(\u001b[0m\u001b[0mphis\u001b[0m\u001b[0;34m,\u001b[0m \u001b[0mareas\u001b[0m\u001b[0;34m)\u001b[0m\u001b[0;34m\u001b[0m\u001b[0;34m\u001b[0m\u001b[0m\n\u001b[0m\u001b[1;32m     41\u001b[0m \u001b[0;34m\u001b[0m\u001b[0m\n\u001b[1;32m     42\u001b[0m     \u001b[0mphi_tmp\u001b[0m \u001b[0;34m=\u001b[0m \u001b[0mnp\u001b[0m\u001b[0;34m.\u001b[0m\u001b[0mlinspace\u001b[0m\u001b[0;34m(\u001b[0m\u001b[0;36m0\u001b[0m\u001b[0;34m,\u001b[0m \u001b[0;36m180\u001b[0m\u001b[0;34m,\u001b[0m \u001b[0;36m36\u001b[0m\u001b[0;34m)\u001b[0m\u001b[0;34m\u001b[0m\u001b[0;34m\u001b[0m\u001b[0m\n",
      "\u001b[0;32m<ipython-input-44-26f63d6f6d97>\u001b[0m in \u001b[0;36mprep\u001b[0;34m(phis, areas)\u001b[0m\n\u001b[1;32m     32\u001b[0m     \u001b[0mplt\u001b[0m\u001b[0;34m.\u001b[0m\u001b[0mplot\u001b[0m\u001b[0;34m(\u001b[0m\u001b[0mphi_list\u001b[0m\u001b[0;34m,\u001b[0m \u001b[0marea_list\u001b[0m\u001b[0;34m,\u001b[0m \u001b[0;34m'o'\u001b[0m\u001b[0;34m)\u001b[0m\u001b[0;34m\u001b[0m\u001b[0;34m\u001b[0m\u001b[0m\n\u001b[1;32m     33\u001b[0m     \u001b[0mplt\u001b[0m\u001b[0;34m.\u001b[0m\u001b[0mplot\u001b[0m\u001b[0;34m(\u001b[0m\u001b[0mphi_tmp\u001b[0m\u001b[0;34m,\u001b[0m \u001b[0mny\u001b[0m\u001b[0;34m,\u001b[0m \u001b[0;34m'-'\u001b[0m\u001b[0;34m)\u001b[0m\u001b[0;34m\u001b[0m\u001b[0;34m\u001b[0m\u001b[0m\n\u001b[0;32m---> 34\u001b[0;31m     \u001b[0mplt\u001b[0m\u001b[0;34m.\u001b[0m\u001b[0msavefig\u001b[0m\u001b[0;34m(\u001b[0m\u001b[0;34m\"%s/fitted.png\"\u001b[0m \u001b[0;34m%\u001b[0m \u001b[0mself\u001b[0m\u001b[0;34m.\u001b[0m\u001b[0mlogpath\u001b[0m\u001b[0;34m)\u001b[0m\u001b[0;34m\u001b[0m\u001b[0;34m\u001b[0m\u001b[0m\n\u001b[0m\u001b[1;32m     35\u001b[0m \u001b[0;34m\u001b[0m\u001b[0m\n\u001b[1;32m     36\u001b[0m     \u001b[0misDone\u001b[0m\u001b[0;34m=\u001b[0m\u001b[0;32mTrue\u001b[0m\u001b[0;34m\u001b[0m\u001b[0;34m\u001b[0m\u001b[0m\n",
      "\u001b[0;31mNameError\u001b[0m: name 'self' is not defined"
     ]
    },
    {
     "data": {
      "image/png": "[encoded data removed]",
      "text/plain": [
       "<Figure size 432x288 with 1 Axes>"
      ]
     },
     "metadata": {
      "needs_background": "light"
     },
     "output_type": "display_data"
    }
   ],
   "source": [
    "face_angle=findFaceAngle()"
   ]
  },
  {
   "cell_type": "code",
   "execution_count": null,
   "id": "e59f7fc9",
   "metadata": {},
   "outputs": [],
   "source": []
  },
  {
   "cell_type": "code",
   "execution_count": null,
   "id": "fda9ed03",
   "metadata": {},
   "outputs": [],
   "source": []
  },
  {
   "cell_type": "code",
   "execution_count": null,
   "id": "586dab69",
   "metadata": {},
   "outputs": [],
   "source": []
  }
 ],
 "metadata": {
  "kernelspec": {
   "display_name": "Python 3",
   "language": "python",
   "name": "python3"
  },
  "language_info": {
   "codemirror_mode": {
    "name": "ipython",
    "version": 3
   },
   "file_extension": ".py",
   "mimetype": "text/x-python",
   "name": "python",
   "nbconvert_exporter": "python",
   "pygments_lexer": "ipython3",
   "version": "3.6.10"
  }
 },
 "nbformat": 4,
 "nbformat_minor": 5
}
